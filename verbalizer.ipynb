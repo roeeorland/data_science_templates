{
 "cells": [
  {
   "cell_type": "code",
   "execution_count": 1,
   "metadata": {},
   "outputs": [],
   "source": [
    "yeses = []\n",
    "for y in ['Y', 'y']:\n",
    "    for e in ['E', 'e']:\n",
    "        for s in ['S', 's']:\n",
    "            yeses.append(y+e+s)\n",
    "            "
   ]
  },
  {
   "cell_type": "code",
   "execution_count": 3,
   "metadata": {},
   "outputs": [],
   "source": [
    "nos = []\n",
    "for n in ['N', 'n']:\n",
    "    for o in ['O', 'o']:\n",
    "        nos.append(n+o)"
   ]
  },
  {
   "cell_type": "code",
   "execution_count": 6,
   "metadata": {},
   "outputs": [
    {
     "data": {
      "text/plain": [
       "{'Yes': 100,\n",
       " 'YeS': 100,\n",
       " 'YES': 100,\n",
       " 'yEs': 100,\n",
       " 'yes': 100,\n",
       " 'NO': 100,\n",
       " 'yeS': 100,\n",
       " 'yES': 100,\n",
       " 'YEs': 100,\n",
       " 'No': 100,\n",
       " 'nO': 100,\n",
       " 'no': 100}"
      ]
     },
     "execution_count": 6,
     "metadata": {},
     "output_type": "execute_result"
    }
   ],
   "source": [
    "{t:100 for t in frozenset(yeses)|frozenset(nos)}"
   ]
  },
  {
   "cell_type": "code",
   "execution_count": null,
   "metadata": {},
   "outputs": [],
   "source": []
  }
 ],
 "metadata": {
  "kernelspec": {
   "display_name": "templates_env",
   "language": "python",
   "name": "python3"
  },
  "language_info": {
   "codemirror_mode": {
    "name": "ipython",
    "version": 3
   },
   "file_extension": ".py",
   "mimetype": "text/x-python",
   "name": "python",
   "nbconvert_exporter": "python",
   "pygments_lexer": "ipython3",
   "version": "3.11.1"
  }
 },
 "nbformat": 4,
 "nbformat_minor": 2
}
